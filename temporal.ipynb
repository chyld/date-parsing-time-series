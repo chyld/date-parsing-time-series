{
 "cells": [
  {
   "cell_type": "markdown",
   "metadata": {},
   "source": [
    "# Template"
   ]
  },
  {
   "cell_type": "code",
   "execution_count": 1,
   "metadata": {
    "execution": {
     "iopub.execute_input": "2020-10-20T07:07:22.049672Z",
     "iopub.status.busy": "2020-10-20T07:07:22.049414Z",
     "iopub.status.idle": "2020-10-20T07:07:23.287769Z",
     "shell.execute_reply": "2020-10-20T07:07:23.286912Z",
     "shell.execute_reply.started": "2020-10-20T07:07:22.049647Z"
    }
   },
   "outputs": [],
   "source": [
    "import numpy as np\n",
    "import pandas as pd\n",
    "import xarray as xr\n",
    "import matplotlib.pyplot as plt\n",
    "import seaborn as sns\n",
    "import tensorflow as tf\n",
    "import torch\n",
    "\n",
    "pd.set_option(\"precision\", 2)\n",
    "torch.set_printoptions(precision=2, sci_mode=False)\n",
    "\n",
    "%precision 2\n",
    "%load_ext lab_black\n",
    "%load_ext autoreload\n",
    "%autoreload 2\n",
    "%matplotlib inline"
   ]
  },
  {
   "cell_type": "markdown",
   "metadata": {},
   "source": [
    "# Start"
   ]
  },
  {
   "cell_type": "code",
   "execution_count": 2,
   "metadata": {
    "execution": {
     "iopub.execute_input": "2020-10-20T07:07:23.288826Z",
     "iopub.status.busy": "2020-10-20T07:07:23.288657Z",
     "iopub.status.idle": "2020-10-20T07:07:23.314277Z",
     "shell.execute_reply": "2020-10-20T07:07:23.313497Z",
     "shell.execute_reply.started": "2020-10-20T07:07:23.288808Z"
    }
   },
   "outputs": [],
   "source": [
    "# begin project ..."
   ]
  },
  {
   "cell_type": "markdown",
   "metadata": {},
   "source": [
    "## Time"
   ]
  },
  {
   "cell_type": "code",
   "execution_count": 3,
   "metadata": {
    "execution": {
     "iopub.execute_input": "2020-10-20T07:07:23.315528Z",
     "iopub.status.busy": "2020-10-20T07:07:23.315362Z",
     "iopub.status.idle": "2020-10-20T07:07:23.349236Z",
     "shell.execute_reply": "2020-10-20T07:07:23.348536Z",
     "shell.execute_reply.started": "2020-10-20T07:07:23.315508Z"
    }
   },
   "outputs": [
    {
     "data": {
      "text/plain": [
       "1603177643.34"
      ]
     },
     "execution_count": 3,
     "metadata": {},
     "output_type": "execute_result"
    }
   ],
   "source": [
    "# unix epoch time - number of seconds since 1970\n",
    "import time\n",
    "\n",
    "time.time()"
   ]
  },
  {
   "cell_type": "code",
   "execution_count": 4,
   "metadata": {
    "execution": {
     "iopub.execute_input": "2020-10-20T07:07:23.350568Z",
     "iopub.status.busy": "2020-10-20T07:07:23.350383Z",
     "iopub.status.idle": "2020-10-20T07:07:23.390455Z",
     "shell.execute_reply": "2020-10-20T07:07:23.389652Z",
     "shell.execute_reply.started": "2020-10-20T07:07:23.350547Z"
    }
   },
   "outputs": [
    {
     "data": {
      "text/plain": [
       "51"
      ]
     },
     "execution_count": 4,
     "metadata": {},
     "output_type": "execute_result"
    }
   ],
   "source": [
    "# years since 1970\n",
    "2021 - 1970"
   ]
  },
  {
   "cell_type": "code",
   "execution_count": 5,
   "metadata": {
    "execution": {
     "iopub.execute_input": "2020-10-20T07:07:23.392828Z",
     "iopub.status.busy": "2020-10-20T07:07:23.391328Z",
     "iopub.status.idle": "2020-10-20T07:07:23.423688Z",
     "shell.execute_reply": "2020-10-20T07:07:23.423140Z",
     "shell.execute_reply.started": "2020-10-20T07:07:23.392790Z"
    }
   },
   "outputs": [
    {
     "data": {
      "text/plain": [
       "1608336000"
      ]
     },
     "execution_count": 5,
     "metadata": {},
     "output_type": "execute_result"
    }
   ],
   "source": [
    "# do the math\n",
    "t = 60 * 60 * 24 * 365 * 51\n",
    "t"
   ]
  },
  {
   "cell_type": "markdown",
   "metadata": {},
   "source": [
    "## DateTime"
   ]
  },
  {
   "cell_type": "code",
   "execution_count": 6,
   "metadata": {
    "execution": {
     "iopub.execute_input": "2020-10-20T07:07:23.424673Z",
     "iopub.status.busy": "2020-10-20T07:07:23.424393Z",
     "iopub.status.idle": "2020-10-20T07:07:23.455961Z",
     "shell.execute_reply": "2020-10-20T07:07:23.454681Z",
     "shell.execute_reply.started": "2020-10-20T07:07:23.424651Z"
    }
   },
   "outputs": [],
   "source": [
    "from datetime import date\n",
    "from datetime import time\n",
    "from datetime import datetime\n",
    "from datetime import timedelta\n",
    "from datetime import tzinfo\n",
    "from datetime import timezone"
   ]
  },
  {
   "cell_type": "code",
   "execution_count": 7,
   "metadata": {
    "execution": {
     "iopub.execute_input": "2020-10-20T07:07:23.457058Z",
     "iopub.status.busy": "2020-10-20T07:07:23.456875Z",
     "iopub.status.idle": "2020-10-20T07:07:23.498238Z",
     "shell.execute_reply": "2020-10-20T07:07:23.497503Z",
     "shell.execute_reply.started": "2020-10-20T07:07:23.457036Z"
    }
   },
   "outputs": [
    {
     "name": "stdout",
     "output_type": "stream",
     "text": [
      "-------------------------\n",
      "today is 2020-10-20\n",
      "today is 10 20 2020\n",
      "today's weekday is tuesday\n"
     ]
    }
   ],
   "source": [
    "today = date.today()\n",
    "\n",
    "print(\"-\" * 25)\n",
    "print(\"today is {}\".format(today))\n",
    "print(\"today is {} {} {}\".format(today.month, today.day, today.year))\n",
    "days = [\"monday\", \"tuesday\", \"wednesday\", \"thursday\", \"friday\", \"saturday\", \"sunday\"]\n",
    "print(\"today's weekday is {}\".format(days[today.weekday()]))"
   ]
  },
  {
   "cell_type": "code",
   "execution_count": 8,
   "metadata": {
    "execution": {
     "iopub.execute_input": "2020-10-20T07:07:23.500116Z",
     "iopub.status.busy": "2020-10-20T07:07:23.499920Z",
     "iopub.status.idle": "2020-10-20T07:07:23.539629Z",
     "shell.execute_reply": "2020-10-20T07:07:23.538739Z",
     "shell.execute_reply.started": "2020-10-20T07:07:23.500094Z"
    }
   },
   "outputs": [
    {
     "name": "stdout",
     "output_type": "stream",
     "text": [
      "-------------------------\n",
      "Today is 2020-10-20 00:07:23.528461\n",
      "Today is the month 10 and day 20 of the year 2020\n",
      "Time from datetime 00:07:23.528461\n",
      "Specify date and time in UTC time  2020-03-14 12:00:00+00:00\n"
     ]
    }
   ],
   "source": [
    "print(\"-\" * 25)\n",
    "today = datetime.now()\n",
    "print(\"Today is {}\".format(today))\n",
    "print(\n",
    "    \"Today is the month {} and day {} of the year {}\".format(\n",
    "        today.month, today.day, today.year\n",
    "    )\n",
    ")\n",
    "print(\"Time from datetime\", datetime.time(today))\n",
    "print(\n",
    "    \"Specify date and time in UTC time \", datetime(2020, 3, 14, 12, tzinfo=timezone.utc)\n",
    ")"
   ]
  },
  {
   "cell_type": "code",
   "execution_count": 9,
   "metadata": {
    "execution": {
     "iopub.execute_input": "2020-10-20T07:07:23.541135Z",
     "iopub.status.busy": "2020-10-20T07:07:23.540942Z",
     "iopub.status.idle": "2020-10-20T07:07:23.582359Z",
     "shell.execute_reply": "2020-10-20T07:07:23.581639Z",
     "shell.execute_reply.started": "2020-10-20T07:07:23.541113Z"
    }
   },
   "outputs": [
    {
     "name": "stdout",
     "output_type": "stream",
     "text": [
      "-------------------------\n",
      "year: 2020\n",
      "year: 20\n",
      "month: October\n",
      "day: 20\n",
      "weekday: Tue\n",
      "date: 10/20/20\n",
      "time: 00:07:23\n",
      "timedate: 2020-10-20 00:07:23\n"
     ]
    }
   ],
   "source": [
    "print(\"-\" * 25)\n",
    "today = datetime.now()\n",
    "print(\"year:\", today.strftime(\"%Y\"))\n",
    "print(\"year:\", today.strftime(\"%y\"))\n",
    "print(\"month:\", today.strftime(\"%B\"))\n",
    "print(\"day:\", today.strftime(\"%d\"))\n",
    "print(\"weekday:\", today.strftime(\"%a\"))\n",
    "print(\"date:\", today.strftime(\"%x\"))\n",
    "print(\"time:\", today.strftime(\"%X\"))\n",
    "print(\"timedate:\", today.strftime(\"%Y-%m-%d %H:%M:%S\"))"
   ]
  },
  {
   "cell_type": "markdown",
   "metadata": {},
   "source": [
    "## Deltas"
   ]
  },
  {
   "cell_type": "code",
   "execution_count": 10,
   "metadata": {
    "execution": {
     "iopub.execute_input": "2020-10-20T07:07:23.583214Z",
     "iopub.status.busy": "2020-10-20T07:07:23.583039Z",
     "iopub.status.idle": "2020-10-20T07:07:23.622206Z",
     "shell.execute_reply": "2020-10-20T07:07:23.621302Z",
     "shell.execute_reply.started": "2020-10-20T07:07:23.583193Z"
    }
   },
   "outputs": [
    {
     "name": "stdout",
     "output_type": "stream",
     "text": [
      "One year from now it will be:  2021-10-20\n",
      "40 days from now it will be:  2020-11-29\n",
      "10 weeks and 2 days from now it will be: 2020-12-31\n"
     ]
    }
   ],
   "source": [
    "print(\n",
    "    \"One year from now it will be: \", (today + timedelta(days=365)).strftime(\"%Y-%m-%d\")\n",
    ")\n",
    "print(\n",
    "    \"40 days from now it will be: \", (today + timedelta(days=40)).strftime(\"%Y-%m-%d\")\n",
    ")\n",
    "print(\n",
    "    \"10 weeks and 2 days from now it will be:\",\n",
    "    (today + timedelta(weeks=10, days=2)).strftime(\"%Y-%m-%d\"),\n",
    ")"
   ]
  },
  {
   "cell_type": "markdown",
   "metadata": {},
   "source": [
    "## Pandas"
   ]
  },
  {
   "cell_type": "code",
   "execution_count": 11,
   "metadata": {
    "execution": {
     "iopub.execute_input": "2020-10-20T07:07:23.623059Z",
     "iopub.status.busy": "2020-10-20T07:07:23.622875Z",
     "iopub.status.idle": "2020-10-20T07:07:23.675137Z",
     "shell.execute_reply": "2020-10-20T07:07:23.674284Z",
     "shell.execute_reply.started": "2020-10-20T07:07:23.623038Z"
    }
   },
   "outputs": [
    {
     "data": {
      "text/html": [
       "<div>\n",
       "<style scoped>\n",
       "    .dataframe tbody tr th:only-of-type {\n",
       "        vertical-align: middle;\n",
       "    }\n",
       "\n",
       "    .dataframe tbody tr th {\n",
       "        vertical-align: top;\n",
       "    }\n",
       "\n",
       "    .dataframe thead th {\n",
       "        text-align: right;\n",
       "    }\n",
       "</style>\n",
       "<table border=\"1\" class=\"dataframe\">\n",
       "  <thead>\n",
       "    <tr style=\"text-align: right;\">\n",
       "      <th></th>\n",
       "      <th>date</th>\n",
       "      <th>value</th>\n",
       "    </tr>\n",
       "  </thead>\n",
       "  <tbody>\n",
       "    <tr>\n",
       "      <th>0</th>\n",
       "      <td>2000-03-10</td>\n",
       "      <td>2</td>\n",
       "    </tr>\n",
       "    <tr>\n",
       "      <th>1</th>\n",
       "      <td>2000-03-11</td>\n",
       "      <td>3</td>\n",
       "    </tr>\n",
       "    <tr>\n",
       "      <th>2</th>\n",
       "      <td>2000-03-12</td>\n",
       "      <td>4</td>\n",
       "    </tr>\n",
       "  </tbody>\n",
       "</table>\n",
       "</div>"
      ],
      "text/plain": [
       "        date  value\n",
       "0 2000-03-10      2\n",
       "1 2000-03-11      3\n",
       "2 2000-03-12      4"
      ]
     },
     "execution_count": 11,
     "metadata": {},
     "output_type": "execute_result"
    }
   ],
   "source": [
    "# standard - month first\n",
    "df = pd.DataFrame({\"date\": [\"3/10/2000\", \"3/11/2000\", \"3/12/2000\"], \"value\": [2, 3, 4]})\n",
    "df[\"date\"] = pd.to_datetime(df[\"date\"])\n",
    "df"
   ]
  },
  {
   "cell_type": "markdown",
   "metadata": {},
   "source": [
    "- By default, to_datetime() will parse string with month first (MM/DD, MM DD, or MM-DD) format, and this arrangement is relatively unique in the United States.\n",
    "- In most of the rest of the world, the day is written first (DD/MM, DD MM, or DD-MM). If you would like Pandas to consider day first instead of month, you can set the argument dayfirst to True."
   ]
  },
  {
   "cell_type": "code",
   "execution_count": 12,
   "metadata": {
    "execution": {
     "iopub.execute_input": "2020-10-20T07:07:23.676355Z",
     "iopub.status.busy": "2020-10-20T07:07:23.675978Z",
     "iopub.status.idle": "2020-10-20T07:07:23.716317Z",
     "shell.execute_reply": "2020-10-20T07:07:23.715514Z",
     "shell.execute_reply.started": "2020-10-20T07:07:23.676332Z"
    }
   },
   "outputs": [
    {
     "data": {
      "text/html": [
       "<div>\n",
       "<style scoped>\n",
       "    .dataframe tbody tr th:only-of-type {\n",
       "        vertical-align: middle;\n",
       "    }\n",
       "\n",
       "    .dataframe tbody tr th {\n",
       "        vertical-align: top;\n",
       "    }\n",
       "\n",
       "    .dataframe thead th {\n",
       "        text-align: right;\n",
       "    }\n",
       "</style>\n",
       "<table border=\"1\" class=\"dataframe\">\n",
       "  <thead>\n",
       "    <tr style=\"text-align: right;\">\n",
       "      <th></th>\n",
       "      <th>date</th>\n",
       "      <th>value</th>\n",
       "    </tr>\n",
       "  </thead>\n",
       "  <tbody>\n",
       "    <tr>\n",
       "      <th>0</th>\n",
       "      <td>2000-10-03</td>\n",
       "      <td>2</td>\n",
       "    </tr>\n",
       "    <tr>\n",
       "      <th>1</th>\n",
       "      <td>2000-11-03</td>\n",
       "      <td>3</td>\n",
       "    </tr>\n",
       "    <tr>\n",
       "      <th>2</th>\n",
       "      <td>2000-12-03</td>\n",
       "      <td>4</td>\n",
       "    </tr>\n",
       "  </tbody>\n",
       "</table>\n",
       "</div>"
      ],
      "text/plain": [
       "        date  value\n",
       "0 2000-10-03      2\n",
       "1 2000-11-03      3\n",
       "2 2000-12-03      4"
      ]
     },
     "execution_count": 12,
     "metadata": {},
     "output_type": "execute_result"
    }
   ],
   "source": [
    "# standard - day first\n",
    "df = pd.DataFrame({\"date\": [\"3/10/2000\", \"3/11/2000\", \"3/12/2000\"], \"value\": [2, 3, 4]})\n",
    "df[\"date\"] = pd.to_datetime(df[\"date\"], dayfirst=True)\n",
    "df"
   ]
  },
  {
   "cell_type": "code",
   "execution_count": 13,
   "metadata": {
    "execution": {
     "iopub.execute_input": "2020-10-20T07:07:23.717463Z",
     "iopub.status.busy": "2020-10-20T07:07:23.717192Z",
     "iopub.status.idle": "2020-10-20T07:07:23.761485Z",
     "shell.execute_reply": "2020-10-20T07:07:23.760810Z",
     "shell.execute_reply.started": "2020-10-20T07:07:23.717437Z"
    }
   },
   "outputs": [
    {
     "data": {
      "text/html": [
       "<div>\n",
       "<style scoped>\n",
       "    .dataframe tbody tr th:only-of-type {\n",
       "        vertical-align: middle;\n",
       "    }\n",
       "\n",
       "    .dataframe tbody tr th {\n",
       "        vertical-align: top;\n",
       "    }\n",
       "\n",
       "    .dataframe thead th {\n",
       "        text-align: right;\n",
       "    }\n",
       "</style>\n",
       "<table border=\"1\" class=\"dataframe\">\n",
       "  <thead>\n",
       "    <tr style=\"text-align: right;\">\n",
       "      <th></th>\n",
       "      <th>date</th>\n",
       "      <th>value</th>\n",
       "    </tr>\n",
       "  </thead>\n",
       "  <tbody>\n",
       "    <tr>\n",
       "      <th>0</th>\n",
       "      <td>2016-10-06 20:30:00</td>\n",
       "      <td>2</td>\n",
       "    </tr>\n",
       "    <tr>\n",
       "      <th>1</th>\n",
       "      <td>2016-01-07 19:45:30</td>\n",
       "      <td>3</td>\n",
       "    </tr>\n",
       "    <tr>\n",
       "      <th>2</th>\n",
       "      <td>2013-12-10 04:05:01</td>\n",
       "      <td>4</td>\n",
       "    </tr>\n",
       "  </tbody>\n",
       "</table>\n",
       "</div>"
      ],
      "text/plain": [
       "                 date  value\n",
       "0 2016-10-06 20:30:00      2\n",
       "1 2016-01-07 19:45:30      3\n",
       "2 2013-12-10 04:05:01      4"
      ]
     },
     "execution_count": 13,
     "metadata": {},
     "output_type": "execute_result"
    }
   ],
   "source": [
    "# custom parsing\n",
    "df = pd.DataFrame(\n",
    "    {\n",
    "        \"date\": [\"2016-6-10 20:30:0\", \"2016-7-1 19:45:30\", \"2013-10-12 4:5:1\"],\n",
    "        \"value\": [2, 3, 4],\n",
    "    }\n",
    ")\n",
    "df[\"date\"] = pd.to_datetime(df[\"date\"], format=\"%Y-%d-%m %H:%M:%S\")\n",
    "df"
   ]
  },
  {
   "cell_type": "code",
   "execution_count": 14,
   "metadata": {
    "execution": {
     "iopub.execute_input": "2020-10-20T07:07:23.762615Z",
     "iopub.status.busy": "2020-10-20T07:07:23.762424Z",
     "iopub.status.idle": "2020-10-20T07:07:23.803097Z",
     "shell.execute_reply": "2020-10-20T07:07:23.802234Z",
     "shell.execute_reply.started": "2020-10-20T07:07:23.762592Z"
    }
   },
   "outputs": [
    {
     "name": "stdout",
     "output_type": "stream",
     "text": [
      "error\n"
     ]
    }
   ],
   "source": [
    "# errors\n",
    "try:\n",
    "    df = pd.DataFrame(\n",
    "        {\"date\": [\"3/10/2000\", \"a/11/2000\", \"3/12/2000\"], \"value\": [2, 3, 4]}\n",
    "    )\n",
    "    df[\"date\"] = pd.to_datetime(df[\"date\"])\n",
    "except:\n",
    "    print(\"error\")"
   ]
  },
  {
   "cell_type": "code",
   "execution_count": 15,
   "metadata": {
    "execution": {
     "iopub.execute_input": "2020-10-20T07:07:23.804156Z",
     "iopub.status.busy": "2020-10-20T07:07:23.803963Z",
     "iopub.status.idle": "2020-10-20T07:07:23.842636Z",
     "shell.execute_reply": "2020-10-20T07:07:23.841858Z",
     "shell.execute_reply.started": "2020-10-20T07:07:23.804134Z"
    }
   },
   "outputs": [
    {
     "data": {
      "text/html": [
       "<div>\n",
       "<style scoped>\n",
       "    .dataframe tbody tr th:only-of-type {\n",
       "        vertical-align: middle;\n",
       "    }\n",
       "\n",
       "    .dataframe tbody tr th {\n",
       "        vertical-align: top;\n",
       "    }\n",
       "\n",
       "    .dataframe thead th {\n",
       "        text-align: right;\n",
       "    }\n",
       "</style>\n",
       "<table border=\"1\" class=\"dataframe\">\n",
       "  <thead>\n",
       "    <tr style=\"text-align: right;\">\n",
       "      <th></th>\n",
       "      <th>date</th>\n",
       "      <th>value</th>\n",
       "    </tr>\n",
       "  </thead>\n",
       "  <tbody>\n",
       "    <tr>\n",
       "      <th>0</th>\n",
       "      <td>3/10/2000</td>\n",
       "      <td>2</td>\n",
       "    </tr>\n",
       "    <tr>\n",
       "      <th>1</th>\n",
       "      <td>a/11/2000</td>\n",
       "      <td>3</td>\n",
       "    </tr>\n",
       "    <tr>\n",
       "      <th>2</th>\n",
       "      <td>3/12/2000</td>\n",
       "      <td>4</td>\n",
       "    </tr>\n",
       "  </tbody>\n",
       "</table>\n",
       "</div>"
      ],
      "text/plain": [
       "        date  value\n",
       "0  3/10/2000      2\n",
       "1  a/11/2000      3\n",
       "2  3/12/2000      4"
      ]
     },
     "execution_count": 15,
     "metadata": {},
     "output_type": "execute_result"
    }
   ],
   "source": [
    "# ignore error\n",
    "df[\"date\"] = pd.to_datetime(df[\"date\"], errors=\"ignore\")\n",
    "df"
   ]
  },
  {
   "cell_type": "code",
   "execution_count": 16,
   "metadata": {
    "execution": {
     "iopub.execute_input": "2020-10-20T07:07:23.843640Z",
     "iopub.status.busy": "2020-10-20T07:07:23.843458Z",
     "iopub.status.idle": "2020-10-20T07:07:23.884080Z",
     "shell.execute_reply": "2020-10-20T07:07:23.883234Z",
     "shell.execute_reply.started": "2020-10-20T07:07:23.843619Z"
    }
   },
   "outputs": [
    {
     "data": {
      "text/html": [
       "<div>\n",
       "<style scoped>\n",
       "    .dataframe tbody tr th:only-of-type {\n",
       "        vertical-align: middle;\n",
       "    }\n",
       "\n",
       "    .dataframe tbody tr th {\n",
       "        vertical-align: top;\n",
       "    }\n",
       "\n",
       "    .dataframe thead th {\n",
       "        text-align: right;\n",
       "    }\n",
       "</style>\n",
       "<table border=\"1\" class=\"dataframe\">\n",
       "  <thead>\n",
       "    <tr style=\"text-align: right;\">\n",
       "      <th></th>\n",
       "      <th>date</th>\n",
       "      <th>value</th>\n",
       "    </tr>\n",
       "  </thead>\n",
       "  <tbody>\n",
       "    <tr>\n",
       "      <th>0</th>\n",
       "      <td>2000-03-10</td>\n",
       "      <td>2</td>\n",
       "    </tr>\n",
       "    <tr>\n",
       "      <th>1</th>\n",
       "      <td>NaT</td>\n",
       "      <td>3</td>\n",
       "    </tr>\n",
       "    <tr>\n",
       "      <th>2</th>\n",
       "      <td>2000-03-12</td>\n",
       "      <td>4</td>\n",
       "    </tr>\n",
       "  </tbody>\n",
       "</table>\n",
       "</div>"
      ],
      "text/plain": [
       "        date  value\n",
       "0 2000-03-10      2\n",
       "1        NaT      3\n",
       "2 2000-03-12      4"
      ]
     },
     "execution_count": 16,
     "metadata": {},
     "output_type": "execute_result"
    }
   ],
   "source": [
    "# coerce to Not a Time\n",
    "df[\"date\"] = pd.to_datetime(df[\"date\"], errors=\"coerce\")\n",
    "df"
   ]
  },
  {
   "cell_type": "code",
   "execution_count": 17,
   "metadata": {
    "execution": {
     "iopub.execute_input": "2020-10-20T07:07:23.885227Z",
     "iopub.status.busy": "2020-10-20T07:07:23.885036Z",
     "iopub.status.idle": "2020-10-20T07:07:23.915960Z",
     "shell.execute_reply": "2020-10-20T07:07:23.915156Z",
     "shell.execute_reply.started": "2020-10-20T07:07:23.885205Z"
    }
   },
   "outputs": [
    {
     "data": {
      "text/plain": [
       "True"
      ]
     },
     "execution_count": 17,
     "metadata": {},
     "output_type": "execute_result"
    }
   ],
   "source": [
    "# isna - found missing dates\n",
    "df.date.isna().any()"
   ]
  },
  {
   "cell_type": "code",
   "execution_count": 18,
   "metadata": {
    "execution": {
     "iopub.execute_input": "2020-10-20T07:07:23.918897Z",
     "iopub.status.busy": "2020-10-20T07:07:23.918676Z",
     "iopub.status.idle": "2020-10-20T07:07:23.970813Z",
     "shell.execute_reply": "2020-10-20T07:07:23.969918Z",
     "shell.execute_reply.started": "2020-10-20T07:07:23.918874Z"
    }
   },
   "outputs": [
    {
     "data": {
      "text/html": [
       "<div>\n",
       "<style scoped>\n",
       "    .dataframe tbody tr th:only-of-type {\n",
       "        vertical-align: middle;\n",
       "    }\n",
       "\n",
       "    .dataframe tbody tr th {\n",
       "        vertical-align: top;\n",
       "    }\n",
       "\n",
       "    .dataframe thead th {\n",
       "        text-align: right;\n",
       "    }\n",
       "</style>\n",
       "<table border=\"1\" class=\"dataframe\">\n",
       "  <thead>\n",
       "    <tr style=\"text-align: right;\">\n",
       "      <th></th>\n",
       "      <th>name</th>\n",
       "      <th>DoB</th>\n",
       "      <th>year</th>\n",
       "      <th>month</th>\n",
       "      <th>day</th>\n",
       "      <th>is_leap_year</th>\n",
       "    </tr>\n",
       "  </thead>\n",
       "  <tbody>\n",
       "    <tr>\n",
       "      <th>0</th>\n",
       "      <td>Tom</td>\n",
       "      <td>1997-08-05</td>\n",
       "      <td>1997</td>\n",
       "      <td>8</td>\n",
       "      <td>5</td>\n",
       "      <td>False</td>\n",
       "    </tr>\n",
       "    <tr>\n",
       "      <th>1</th>\n",
       "      <td>Andy</td>\n",
       "      <td>1996-04-28</td>\n",
       "      <td>1996</td>\n",
       "      <td>4</td>\n",
       "      <td>28</td>\n",
       "      <td>True</td>\n",
       "    </tr>\n",
       "    <tr>\n",
       "      <th>2</th>\n",
       "      <td>Lucas</td>\n",
       "      <td>1995-12-16</td>\n",
       "      <td>1995</td>\n",
       "      <td>12</td>\n",
       "      <td>16</td>\n",
       "      <td>False</td>\n",
       "    </tr>\n",
       "  </tbody>\n",
       "</table>\n",
       "</div>"
      ],
      "text/plain": [
       "    name        DoB  year  month  day  is_leap_year\n",
       "0    Tom 1997-08-05  1997      8    5         False\n",
       "1   Andy 1996-04-28  1996      4   28          True\n",
       "2  Lucas 1995-12-16  1995     12   16         False"
      ]
     },
     "execution_count": 18,
     "metadata": {},
     "output_type": "execute_result"
    }
   ],
   "source": [
    "# get the parts of the date\n",
    "df = pd.DataFrame(\n",
    "    {\n",
    "        \"name\": [\"Tom\", \"Andy\", \"Lucas\"],\n",
    "        \"DoB\": [\"08-05-1997\", \"04-28-1996\", \"12-16-1995\"],\n",
    "    }\n",
    ")\n",
    "df[\"DoB\"] = pd.to_datetime(df[\"DoB\"])\n",
    "df[\"year\"] = df[\"DoB\"].dt.year\n",
    "df[\"month\"] = df[\"DoB\"].dt.month\n",
    "df[\"day\"] = df[\"DoB\"].dt.day\n",
    "df[\"is_leap_year\"] = df[\"DoB\"].dt.is_leap_year\n",
    "df"
   ]
  },
  {
   "cell_type": "code",
   "execution_count": 19,
   "metadata": {
    "execution": {
     "iopub.execute_input": "2020-10-20T07:07:23.971871Z",
     "iopub.status.busy": "2020-10-20T07:07:23.971688Z",
     "iopub.status.idle": "2020-10-20T07:07:24.014968Z",
     "shell.execute_reply": "2020-10-20T07:07:24.014044Z",
     "shell.execute_reply.started": "2020-10-20T07:07:23.971851Z"
    }
   },
   "outputs": [
    {
     "data": {
      "text/html": [
       "<div>\n",
       "<style scoped>\n",
       "    .dataframe tbody tr th:only-of-type {\n",
       "        vertical-align: middle;\n",
       "    }\n",
       "\n",
       "    .dataframe tbody tr th {\n",
       "        vertical-align: top;\n",
       "    }\n",
       "\n",
       "    .dataframe thead th {\n",
       "        text-align: right;\n",
       "    }\n",
       "</style>\n",
       "<table border=\"1\" class=\"dataframe\">\n",
       "  <thead>\n",
       "    <tr style=\"text-align: right;\">\n",
       "      <th></th>\n",
       "      <th>year</th>\n",
       "      <th>week</th>\n",
       "      <th>day</th>\n",
       "    </tr>\n",
       "  </thead>\n",
       "  <tbody>\n",
       "    <tr>\n",
       "      <th>0</th>\n",
       "      <td>1997</td>\n",
       "      <td>32</td>\n",
       "      <td>2</td>\n",
       "    </tr>\n",
       "    <tr>\n",
       "      <th>1</th>\n",
       "      <td>1996</td>\n",
       "      <td>17</td>\n",
       "      <td>7</td>\n",
       "    </tr>\n",
       "    <tr>\n",
       "      <th>2</th>\n",
       "      <td>1995</td>\n",
       "      <td>50</td>\n",
       "      <td>6</td>\n",
       "    </tr>\n",
       "  </tbody>\n",
       "</table>\n",
       "</div>"
      ],
      "text/plain": [
       "   year  week  day\n",
       "0  1997    32    2\n",
       "1  1996    17    7\n",
       "2  1995    50    6"
      ]
     },
     "execution_count": 19,
     "metadata": {},
     "output_type": "execute_result"
    }
   ],
   "source": [
    "iso = df.DoB.dt.isocalendar()\n",
    "iso"
   ]
  },
  {
   "cell_type": "code",
   "execution_count": 20,
   "metadata": {
    "execution": {
     "iopub.execute_input": "2020-10-20T07:07:24.016084Z",
     "iopub.status.busy": "2020-10-20T07:07:24.015895Z",
     "iopub.status.idle": "2020-10-20T07:07:24.066210Z",
     "shell.execute_reply": "2020-10-20T07:07:24.065413Z",
     "shell.execute_reply.started": "2020-10-20T07:07:24.016060Z"
    }
   },
   "outputs": [
    {
     "data": {
      "text/html": [
       "<div>\n",
       "<style scoped>\n",
       "    .dataframe tbody tr th:only-of-type {\n",
       "        vertical-align: middle;\n",
       "    }\n",
       "\n",
       "    .dataframe tbody tr th {\n",
       "        vertical-align: top;\n",
       "    }\n",
       "\n",
       "    .dataframe thead th {\n",
       "        text-align: right;\n",
       "    }\n",
       "</style>\n",
       "<table border=\"1\" class=\"dataframe\">\n",
       "  <thead>\n",
       "    <tr style=\"text-align: right;\">\n",
       "      <th></th>\n",
       "      <th>name</th>\n",
       "      <th>DoB</th>\n",
       "      <th>year</th>\n",
       "      <th>month</th>\n",
       "      <th>day</th>\n",
       "      <th>is_leap_year</th>\n",
       "      <th>year</th>\n",
       "      <th>week</th>\n",
       "      <th>day</th>\n",
       "    </tr>\n",
       "  </thead>\n",
       "  <tbody>\n",
       "    <tr>\n",
       "      <th>0</th>\n",
       "      <td>Tom</td>\n",
       "      <td>1997-08-05</td>\n",
       "      <td>1997</td>\n",
       "      <td>8</td>\n",
       "      <td>5</td>\n",
       "      <td>False</td>\n",
       "      <td>1997</td>\n",
       "      <td>32</td>\n",
       "      <td>2</td>\n",
       "    </tr>\n",
       "    <tr>\n",
       "      <th>1</th>\n",
       "      <td>Andy</td>\n",
       "      <td>1996-04-28</td>\n",
       "      <td>1996</td>\n",
       "      <td>4</td>\n",
       "      <td>28</td>\n",
       "      <td>True</td>\n",
       "      <td>1996</td>\n",
       "      <td>17</td>\n",
       "      <td>7</td>\n",
       "    </tr>\n",
       "    <tr>\n",
       "      <th>2</th>\n",
       "      <td>Lucas</td>\n",
       "      <td>1995-12-16</td>\n",
       "      <td>1995</td>\n",
       "      <td>12</td>\n",
       "      <td>16</td>\n",
       "      <td>False</td>\n",
       "      <td>1995</td>\n",
       "      <td>50</td>\n",
       "      <td>6</td>\n",
       "    </tr>\n",
       "  </tbody>\n",
       "</table>\n",
       "</div>"
      ],
      "text/plain": [
       "    name        DoB  year  month  day  is_leap_year  year  week  day\n",
       "0    Tom 1997-08-05  1997      8    5         False  1997    32    2\n",
       "1   Andy 1996-04-28  1996      4   28          True  1996    17    7\n",
       "2  Lucas 1995-12-16  1995     12   16         False  1995    50    6"
      ]
     },
     "execution_count": 20,
     "metadata": {},
     "output_type": "execute_result"
    }
   ],
   "source": [
    "df = pd.concat([df, iso], axis=1)\n",
    "df"
   ]
  },
  {
   "cell_type": "code",
   "execution_count": 21,
   "metadata": {
    "execution": {
     "iopub.execute_input": "2020-10-20T07:07:24.067193Z",
     "iopub.status.busy": "2020-10-20T07:07:24.067010Z",
     "iopub.status.idle": "2020-10-20T07:07:24.109995Z",
     "shell.execute_reply": "2020-10-20T07:07:24.108848Z",
     "shell.execute_reply.started": "2020-10-20T07:07:24.067172Z"
    }
   },
   "outputs": [
    {
     "data": {
      "text/plain": [
       "'Tuesday, Sunday, Saturday'"
      ]
     },
     "execution_count": 21,
     "metadata": {},
     "output_type": "execute_result"
    }
   ],
   "source": [
    "dw_mapping = {\n",
    "    0: \"Monday\",\n",
    "    1: \"Tuesday\",\n",
    "    2: \"Wednesday\",\n",
    "    3: \"Thursday\",\n",
    "    4: \"Friday\",\n",
    "    5: \"Saturday\",\n",
    "    6: \"Sunday\",\n",
    "}\n",
    "\", \".join(df.DoB.dt.weekday.map(dw_mapping).values.tolist())"
   ]
  },
  {
   "cell_type": "code",
   "execution_count": 22,
   "metadata": {
    "execution": {
     "iopub.execute_input": "2020-10-20T07:07:24.110976Z",
     "iopub.status.busy": "2020-10-20T07:07:24.110812Z",
     "iopub.status.idle": "2020-10-20T07:07:24.154180Z",
     "shell.execute_reply": "2020-10-20T07:07:24.153365Z",
     "shell.execute_reply.started": "2020-10-20T07:07:24.110955Z"
    }
   },
   "outputs": [
    {
     "data": {
      "text/html": [
       "<div>\n",
       "<style scoped>\n",
       "    .dataframe tbody tr th:only-of-type {\n",
       "        vertical-align: middle;\n",
       "    }\n",
       "\n",
       "    .dataframe tbody tr th {\n",
       "        vertical-align: top;\n",
       "    }\n",
       "\n",
       "    .dataframe thead th {\n",
       "        text-align: right;\n",
       "    }\n",
       "</style>\n",
       "<table border=\"1\" class=\"dataframe\">\n",
       "  <thead>\n",
       "    <tr style=\"text-align: right;\">\n",
       "      <th></th>\n",
       "      <th>name</th>\n",
       "      <th>DoB</th>\n",
       "      <th>year</th>\n",
       "      <th>month</th>\n",
       "      <th>day</th>\n",
       "      <th>is_leap_year</th>\n",
       "      <th>year</th>\n",
       "      <th>week</th>\n",
       "      <th>day</th>\n",
       "      <th>age</th>\n",
       "    </tr>\n",
       "  </thead>\n",
       "  <tbody>\n",
       "    <tr>\n",
       "      <th>0</th>\n",
       "      <td>Tom</td>\n",
       "      <td>1997-08-05</td>\n",
       "      <td>1997</td>\n",
       "      <td>8</td>\n",
       "      <td>5</td>\n",
       "      <td>False</td>\n",
       "      <td>1997</td>\n",
       "      <td>32</td>\n",
       "      <td>2</td>\n",
       "      <td>23</td>\n",
       "    </tr>\n",
       "    <tr>\n",
       "      <th>1</th>\n",
       "      <td>Andy</td>\n",
       "      <td>1996-04-28</td>\n",
       "      <td>1996</td>\n",
       "      <td>4</td>\n",
       "      <td>28</td>\n",
       "      <td>True</td>\n",
       "      <td>1996</td>\n",
       "      <td>17</td>\n",
       "      <td>7</td>\n",
       "      <td>24</td>\n",
       "    </tr>\n",
       "    <tr>\n",
       "      <th>2</th>\n",
       "      <td>Lucas</td>\n",
       "      <td>1995-12-16</td>\n",
       "      <td>1995</td>\n",
       "      <td>12</td>\n",
       "      <td>16</td>\n",
       "      <td>False</td>\n",
       "      <td>1995</td>\n",
       "      <td>50</td>\n",
       "      <td>6</td>\n",
       "      <td>25</td>\n",
       "    </tr>\n",
       "  </tbody>\n",
       "</table>\n",
       "</div>"
      ],
      "text/plain": [
       "    name        DoB  year  month  day  is_leap_year  year  week  day  age\n",
       "0    Tom 1997-08-05  1997      8    5         False  1997    32    2   23\n",
       "1   Andy 1996-04-28  1996      4   28          True  1996    17    7   24\n",
       "2  Lucas 1995-12-16  1995     12   16         False  1995    50    6   25"
      ]
     },
     "execution_count": 22,
     "metadata": {},
     "output_type": "execute_result"
    }
   ],
   "source": [
    "today = pd.to_datetime(\"today\")\n",
    "df[\"age\"] = today.year - df[\"DoB\"].dt.year\n",
    "df"
   ]
  },
  {
   "cell_type": "markdown",
   "metadata": {},
   "source": [
    "## City Sales"
   ]
  },
  {
   "cell_type": "code",
   "execution_count": 23,
   "metadata": {
    "execution": {
     "iopub.execute_input": "2020-10-20T07:07:24.157995Z",
     "iopub.status.busy": "2020-10-20T07:07:24.157747Z",
     "iopub.status.idle": "2020-10-20T07:07:25.915845Z",
     "shell.execute_reply": "2020-10-20T07:07:25.915046Z",
     "shell.execute_reply.started": "2020-10-20T07:07:24.157968Z"
    }
   },
   "outputs": [
    {
     "data": {
      "text/html": [
       "<div>\n",
       "<style scoped>\n",
       "    .dataframe tbody tr th:only-of-type {\n",
       "        vertical-align: middle;\n",
       "    }\n",
       "\n",
       "    .dataframe tbody tr th {\n",
       "        vertical-align: top;\n",
       "    }\n",
       "\n",
       "    .dataframe thead th {\n",
       "        text-align: right;\n",
       "    }\n",
       "</style>\n",
       "<table border=\"1\" class=\"dataframe\">\n",
       "  <thead>\n",
       "    <tr style=\"text-align: right;\">\n",
       "      <th></th>\n",
       "      <th>num</th>\n",
       "      <th>city</th>\n",
       "    </tr>\n",
       "    <tr>\n",
       "      <th>date</th>\n",
       "      <th></th>\n",
       "      <th></th>\n",
       "    </tr>\n",
       "  </thead>\n",
       "  <tbody>\n",
       "    <tr>\n",
       "      <th>2015-01-01 09:00:00</th>\n",
       "      <td>4</td>\n",
       "      <td>London</td>\n",
       "    </tr>\n",
       "    <tr>\n",
       "      <th>2015-01-01 09:01:00</th>\n",
       "      <td>4</td>\n",
       "      <td>London</td>\n",
       "    </tr>\n",
       "  </tbody>\n",
       "</table>\n",
       "</div>"
      ],
      "text/plain": [
       "                     num    city\n",
       "date                            \n",
       "2015-01-01 09:00:00    4  London\n",
       "2015-01-01 09:01:00    4  London"
      ]
     },
     "execution_count": 23,
     "metadata": {},
     "output_type": "execute_result"
    }
   ],
   "source": [
    "# https://github.com/BindiChen/machine-learning/tree/master/data-analysis/008-pandas-datetime/data\n",
    "city = pd.read_csv(\"city_sales.csv\", parse_dates=[\"date\"], index_col=\"date\")\n",
    "city.head(2)"
   ]
  },
  {
   "cell_type": "code",
   "execution_count": 24,
   "metadata": {
    "execution": {
     "iopub.execute_input": "2020-10-20T07:07:25.917921Z",
     "iopub.status.busy": "2020-10-20T07:07:25.917721Z",
     "iopub.status.idle": "2020-10-20T07:07:25.987968Z",
     "shell.execute_reply": "2020-10-20T07:07:25.986718Z",
     "shell.execute_reply.started": "2020-10-20T07:07:25.917897Z"
    }
   },
   "outputs": [
    {
     "name": "stdout",
     "output_type": "stream",
     "text": [
      "<class 'pandas.core.frame.DataFrame'>\n",
      "DatetimeIndex: 1795144 entries, 2015-01-01 09:00:00 to 2019-01-31 16:00:00\n",
      "Data columns (total 2 columns):\n",
      " #   Column  Dtype \n",
      "---  ------  ----- \n",
      " 0   num     int64 \n",
      " 1   city    object\n",
      "dtypes: int64(1), object(1)\n",
      "memory usage: 41.1+ MB\n"
     ]
    }
   ],
   "source": [
    "city.info()"
   ]
  },
  {
   "cell_type": "code",
   "execution_count": 25,
   "metadata": {
    "execution": {
     "iopub.execute_input": "2020-10-20T07:07:25.989258Z",
     "iopub.status.busy": "2020-10-20T07:07:25.989048Z",
     "iopub.status.idle": "2020-10-20T07:07:26.050896Z",
     "shell.execute_reply": "2020-10-20T07:07:26.049974Z",
     "shell.execute_reply.started": "2020-10-20T07:07:25.989233Z"
    }
   },
   "outputs": [
    {
     "data": {
      "text/plain": [
       "439524"
      ]
     },
     "execution_count": 25,
     "metadata": {},
     "output_type": "execute_result"
    }
   ],
   "source": [
    "# number of records in 2018\n",
    "city.loc[\"2018\"].shape[0]"
   ]
  },
  {
   "cell_type": "code",
   "execution_count": 26,
   "metadata": {
    "execution": {
     "iopub.execute_input": "2020-10-20T07:07:26.052106Z",
     "iopub.status.busy": "2020-10-20T07:07:26.051687Z",
     "iopub.status.idle": "2020-10-20T07:07:26.107042Z",
     "shell.execute_reply": "2020-10-20T07:07:26.106089Z",
     "shell.execute_reply.started": "2020-10-20T07:07:26.052076Z"
    }
   },
   "outputs": [
    {
     "data": {
      "text/plain": [
       "1231190"
      ]
     },
     "execution_count": 26,
     "metadata": {},
     "output_type": "execute_result"
    }
   ],
   "source": [
    "# total sales in 2018\n",
    "city.loc[\"2018\", \"num\"].sum()"
   ]
  },
  {
   "cell_type": "code",
   "execution_count": 27,
   "metadata": {
    "execution": {
     "iopub.execute_input": "2020-10-20T07:07:26.108224Z",
     "iopub.status.busy": "2020-10-20T07:07:26.108015Z",
     "iopub.status.idle": "2020-10-20T07:07:26.209457Z",
     "shell.execute_reply": "2020-10-20T07:07:26.208603Z",
     "shell.execute_reply.started": "2020-10-20T07:07:26.108199Z"
    }
   },
   "outputs": [
    {
     "data": {
      "text/html": [
       "<div>\n",
       "<style scoped>\n",
       "    .dataframe tbody tr th:only-of-type {\n",
       "        vertical-align: middle;\n",
       "    }\n",
       "\n",
       "    .dataframe tbody tr th {\n",
       "        vertical-align: top;\n",
       "    }\n",
       "\n",
       "    .dataframe thead th {\n",
       "        text-align: right;\n",
       "    }\n",
       "</style>\n",
       "<table border=\"1\" class=\"dataframe\">\n",
       "  <thead>\n",
       "    <tr style=\"text-align: right;\">\n",
       "      <th></th>\n",
       "      <th>num</th>\n",
       "    </tr>\n",
       "    <tr>\n",
       "      <th>city</th>\n",
       "      <th></th>\n",
       "    </tr>\n",
       "  </thead>\n",
       "  <tbody>\n",
       "    <tr>\n",
       "      <th>Cambridge</th>\n",
       "      <td>308428</td>\n",
       "    </tr>\n",
       "    <tr>\n",
       "      <th>Durham</th>\n",
       "      <td>307965</td>\n",
       "    </tr>\n",
       "    <tr>\n",
       "      <th>London</th>\n",
       "      <td>307431</td>\n",
       "    </tr>\n",
       "    <tr>\n",
       "      <th>Oxford</th>\n",
       "      <td>307366</td>\n",
       "    </tr>\n",
       "  </tbody>\n",
       "</table>\n",
       "</div>"
      ],
      "text/plain": [
       "              num\n",
       "city             \n",
       "Cambridge  308428\n",
       "Durham     307965\n",
       "London     307431\n",
       "Oxford     307366"
      ]
     },
     "execution_count": 27,
     "metadata": {},
     "output_type": "execute_result"
    }
   ],
   "source": [
    "# sales by city in 2018\n",
    "city.loc[\"2018\"].groupby(\"city\").sum()"
   ]
  },
  {
   "cell_type": "code",
   "execution_count": 28,
   "metadata": {
    "execution": {
     "iopub.execute_input": "2020-10-20T07:07:26.210606Z",
     "iopub.status.busy": "2020-10-20T07:07:26.210424Z",
     "iopub.status.idle": "2020-10-20T07:07:26.259673Z",
     "shell.execute_reply": "2020-10-20T07:07:26.258850Z",
     "shell.execute_reply.started": "2020-10-20T07:07:26.210583Z"
    }
   },
   "outputs": [
    {
     "data": {
      "text/plain": [
       "2.7938397190953217"
      ]
     },
     "execution_count": 28,
     "metadata": {},
     "output_type": "execute_result"
    }
   ],
   "source": [
    "# average sales in May 2018\n",
    "city.loc[\"2018-5\", \"num\"].mean()"
   ]
  },
  {
   "cell_type": "code",
   "execution_count": 29,
   "metadata": {
    "execution": {
     "iopub.execute_input": "2020-10-20T07:07:26.260781Z",
     "iopub.status.busy": "2020-10-20T07:07:26.260576Z",
     "iopub.status.idle": "2020-10-20T07:07:26.299124Z",
     "shell.execute_reply": "2020-10-20T07:07:26.298298Z",
     "shell.execute_reply.started": "2020-10-20T07:07:26.260757Z"
    }
   },
   "outputs": [
    {
     "data": {
      "text/plain": [
       "(1684, 2)"
      ]
     },
     "execution_count": 29,
     "metadata": {},
     "output_type": "execute_result"
    }
   ],
   "source": [
    "# how many transactions occurred on May 1, 2018\n",
    "city.loc[\"2018-5-1\"].shape"
   ]
  },
  {
   "cell_type": "code",
   "execution_count": 30,
   "metadata": {
    "execution": {
     "iopub.execute_input": "2020-10-20T07:07:26.300516Z",
     "iopub.status.busy": "2020-10-20T07:07:26.300099Z",
     "iopub.status.idle": "2020-10-20T07:07:26.470081Z",
     "shell.execute_reply": "2020-10-20T07:07:26.469022Z",
     "shell.execute_reply.started": "2020-10-20T07:07:26.300488Z"
    }
   },
   "outputs": [
    {
     "data": {
      "text/plain": [
       "3690132"
      ]
     },
     "execution_count": 30,
     "metadata": {},
     "output_type": "execute_result"
    }
   ],
   "source": [
    "# total sales 2016, 2017, 2018\n",
    "city.loc[\"2016\":\"2018\", \"num\"].sum()"
   ]
  },
  {
   "cell_type": "code",
   "execution_count": 31,
   "metadata": {
    "execution": {
     "iopub.execute_input": "2020-10-20T07:07:26.471240Z",
     "iopub.status.busy": "2020-10-20T07:07:26.471050Z",
     "iopub.status.idle": "2020-10-20T07:07:26.525498Z",
     "shell.execute_reply": "2020-10-20T07:07:26.524595Z",
     "shell.execute_reply.started": "2020-10-20T07:07:26.471217Z"
    }
   },
   "outputs": [
    {
     "data": {
      "text/plain": [
       "179"
      ]
     },
     "execution_count": 31,
     "metadata": {},
     "output_type": "execute_result"
    }
   ],
   "source": [
    "# sales on May 2, 2018 between 10:30 and 10:45\n",
    "city.loc[\"2018-5-2 10:30\":\"2018-5-2 10:45\", \"num\"].sum()"
   ]
  },
  {
   "cell_type": "code",
   "execution_count": 32,
   "metadata": {
    "execution": {
     "iopub.execute_input": "2020-10-20T07:07:26.526670Z",
     "iopub.status.busy": "2020-10-20T07:07:26.526480Z",
     "iopub.status.idle": "2020-10-20T07:07:26.637318Z",
     "shell.execute_reply": "2020-10-20T07:07:26.636363Z",
     "shell.execute_reply.started": "2020-10-20T07:07:26.526647Z"
    }
   },
   "outputs": [
    {
     "data": {
      "text/html": [
       "<div>\n",
       "<style scoped>\n",
       "    .dataframe tbody tr th:only-of-type {\n",
       "        vertical-align: middle;\n",
       "    }\n",
       "\n",
       "    .dataframe tbody tr th {\n",
       "        vertical-align: top;\n",
       "    }\n",
       "\n",
       "    .dataframe thead th {\n",
       "        text-align: right;\n",
       "    }\n",
       "</style>\n",
       "<table border=\"1\" class=\"dataframe\">\n",
       "  <thead>\n",
       "    <tr style=\"text-align: right;\">\n",
       "      <th></th>\n",
       "      <th>num</th>\n",
       "      <th>city</th>\n",
       "      <th>rolling_sum</th>\n",
       "    </tr>\n",
       "    <tr>\n",
       "      <th>date</th>\n",
       "      <th></th>\n",
       "      <th></th>\n",
       "      <th></th>\n",
       "    </tr>\n",
       "  </thead>\n",
       "  <tbody>\n",
       "    <tr>\n",
       "      <th>2015-01-01 09:00:00</th>\n",
       "      <td>4</td>\n",
       "      <td>London</td>\n",
       "      <td>NaN</td>\n",
       "    </tr>\n",
       "    <tr>\n",
       "      <th>2015-01-01 09:01:00</th>\n",
       "      <td>4</td>\n",
       "      <td>London</td>\n",
       "      <td>NaN</td>\n",
       "    </tr>\n",
       "    <tr>\n",
       "      <th>2015-01-01 09:02:00</th>\n",
       "      <td>3</td>\n",
       "      <td>London</td>\n",
       "      <td>11.0</td>\n",
       "    </tr>\n",
       "    <tr>\n",
       "      <th>2015-01-01 09:03:00</th>\n",
       "      <td>3</td>\n",
       "      <td>London</td>\n",
       "      <td>10.0</td>\n",
       "    </tr>\n",
       "    <tr>\n",
       "      <th>2015-01-01 09:04:00</th>\n",
       "      <td>3</td>\n",
       "      <td>London</td>\n",
       "      <td>9.0</td>\n",
       "    </tr>\n",
       "  </tbody>\n",
       "</table>\n",
       "</div>"
      ],
      "text/plain": [
       "                     num    city  rolling_sum\n",
       "date                                         \n",
       "2015-01-01 09:00:00    4  London          NaN\n",
       "2015-01-01 09:01:00    4  London          NaN\n",
       "2015-01-01 09:02:00    3  London         11.0\n",
       "2015-01-01 09:03:00    3  London         10.0\n",
       "2015-01-01 09:04:00    3  London          9.0"
      ]
     },
     "execution_count": 32,
     "metadata": {},
     "output_type": "execute_result"
    }
   ],
   "source": [
    "# create a rolling sum\n",
    "city[\"rolling_sum\"] = city.rolling(3).sum()\n",
    "city.head()"
   ]
  },
  {
   "cell_type": "code",
   "execution_count": 33,
   "metadata": {
    "execution": {
     "iopub.execute_input": "2020-10-20T07:07:26.638508Z",
     "iopub.status.busy": "2020-10-20T07:07:26.638297Z",
     "iopub.status.idle": "2020-10-20T07:07:26.702041Z",
     "shell.execute_reply": "2020-10-20T07:07:26.701005Z",
     "shell.execute_reply.started": "2020-10-20T07:07:26.638484Z"
    }
   },
   "outputs": [
    {
     "data": {
      "text/html": [
       "<div>\n",
       "<style scoped>\n",
       "    .dataframe tbody tr th:only-of-type {\n",
       "        vertical-align: middle;\n",
       "    }\n",
       "\n",
       "    .dataframe tbody tr th {\n",
       "        vertical-align: top;\n",
       "    }\n",
       "\n",
       "    .dataframe thead th {\n",
       "        text-align: right;\n",
       "    }\n",
       "</style>\n",
       "<table border=\"1\" class=\"dataframe\">\n",
       "  <thead>\n",
       "    <tr style=\"text-align: right;\">\n",
       "      <th></th>\n",
       "      <th>num</th>\n",
       "      <th>city</th>\n",
       "      <th>rolling_sum</th>\n",
       "      <th>rolling_sum_backfilled</th>\n",
       "    </tr>\n",
       "    <tr>\n",
       "      <th>date</th>\n",
       "      <th></th>\n",
       "      <th></th>\n",
       "      <th></th>\n",
       "      <th></th>\n",
       "    </tr>\n",
       "  </thead>\n",
       "  <tbody>\n",
       "    <tr>\n",
       "      <th>2015-01-01 09:00:00</th>\n",
       "      <td>4</td>\n",
       "      <td>London</td>\n",
       "      <td>NaN</td>\n",
       "      <td>11.0</td>\n",
       "    </tr>\n",
       "    <tr>\n",
       "      <th>2015-01-01 09:01:00</th>\n",
       "      <td>4</td>\n",
       "      <td>London</td>\n",
       "      <td>NaN</td>\n",
       "      <td>11.0</td>\n",
       "    </tr>\n",
       "    <tr>\n",
       "      <th>2015-01-01 09:02:00</th>\n",
       "      <td>3</td>\n",
       "      <td>London</td>\n",
       "      <td>11.0</td>\n",
       "      <td>11.0</td>\n",
       "    </tr>\n",
       "    <tr>\n",
       "      <th>2015-01-01 09:03:00</th>\n",
       "      <td>3</td>\n",
       "      <td>London</td>\n",
       "      <td>10.0</td>\n",
       "      <td>10.0</td>\n",
       "    </tr>\n",
       "    <tr>\n",
       "      <th>2015-01-01 09:04:00</th>\n",
       "      <td>3</td>\n",
       "      <td>London</td>\n",
       "      <td>9.0</td>\n",
       "      <td>9.0</td>\n",
       "    </tr>\n",
       "  </tbody>\n",
       "</table>\n",
       "</div>"
      ],
      "text/plain": [
       "                     num    city  rolling_sum  rolling_sum_backfilled\n",
       "date                                                                 \n",
       "2015-01-01 09:00:00    4  London          NaN                    11.0\n",
       "2015-01-01 09:01:00    4  London          NaN                    11.0\n",
       "2015-01-01 09:02:00    3  London         11.0                    11.0\n",
       "2015-01-01 09:03:00    3  London         10.0                    10.0\n",
       "2015-01-01 09:04:00    3  London          9.0                     9.0"
      ]
     },
     "execution_count": 33,
     "metadata": {},
     "output_type": "execute_result"
    }
   ],
   "source": [
    "# backfill missing values\n",
    "city[\"rolling_sum_backfilled\"] = city[\"rolling_sum\"].fillna(method=\"backfill\")\n",
    "city.head()"
   ]
  },
  {
   "cell_type": "code",
   "execution_count": 34,
   "metadata": {
    "execution": {
     "iopub.execute_input": "2020-10-20T07:07:26.703667Z",
     "iopub.status.busy": "2020-10-20T07:07:26.703444Z",
     "iopub.status.idle": "2020-10-20T07:07:26.736586Z",
     "shell.execute_reply": "2020-10-20T07:07:26.735457Z",
     "shell.execute_reply.started": "2020-10-20T07:07:26.703644Z"
    }
   },
   "outputs": [],
   "source": [
    "# get less data ... too slow\n",
    "sm = city.head(250_000)"
   ]
  },
  {
   "cell_type": "code",
   "execution_count": 35,
   "metadata": {
    "execution": {
     "iopub.execute_input": "2020-10-20T07:07:26.741239Z",
     "iopub.status.busy": "2020-10-20T07:07:26.740956Z",
     "iopub.status.idle": "2020-10-20T07:07:26.799416Z",
     "shell.execute_reply": "2020-10-20T07:07:26.798498Z",
     "shell.execute_reply.started": "2020-10-20T07:07:26.741200Z"
    }
   },
   "outputs": [
    {
     "data": {
      "text/html": [
       "<div>\n",
       "<style scoped>\n",
       "    .dataframe tbody tr th:only-of-type {\n",
       "        vertical-align: middle;\n",
       "    }\n",
       "\n",
       "    .dataframe tbody tr th {\n",
       "        vertical-align: top;\n",
       "    }\n",
       "\n",
       "    .dataframe thead th {\n",
       "        text-align: right;\n",
       "    }\n",
       "</style>\n",
       "<table border=\"1\" class=\"dataframe\">\n",
       "  <thead>\n",
       "    <tr style=\"text-align: right;\">\n",
       "      <th></th>\n",
       "      <th>num</th>\n",
       "    </tr>\n",
       "    <tr>\n",
       "      <th>date</th>\n",
       "      <th></th>\n",
       "    </tr>\n",
       "  </thead>\n",
       "  <tbody>\n",
       "    <tr>\n",
       "      <th>2015-01-31</th>\n",
       "      <td>25974</td>\n",
       "    </tr>\n",
       "    <tr>\n",
       "      <th>2015-02-28</th>\n",
       "      <td>23571</td>\n",
       "    </tr>\n",
       "    <tr>\n",
       "      <th>2015-03-31</th>\n",
       "      <td>25862</td>\n",
       "    </tr>\n",
       "    <tr>\n",
       "      <th>2015-04-30</th>\n",
       "      <td>25964</td>\n",
       "    </tr>\n",
       "    <tr>\n",
       "      <th>2015-05-31</th>\n",
       "      <td>24773</td>\n",
       "    </tr>\n",
       "  </tbody>\n",
       "</table>\n",
       "</div>"
      ],
      "text/plain": [
       "              num\n",
       "date             \n",
       "2015-01-31  25974\n",
       "2015-02-28  23571\n",
       "2015-03-31  25862\n",
       "2015-04-30  25964\n",
       "2015-05-31  24773"
      ]
     },
     "execution_count": 35,
     "metadata": {},
     "output_type": "execute_result"
    }
   ],
   "source": [
    "# https://pandas.pydata.org/pandas-docs/stable/user_guide/timeseries.html#offset-aliases\n",
    "# resample to monthly figures\n",
    "# resample is like \"groupby\", but for datetime\n",
    "monthly = sm.resample(\"M\")[[\"num\"]].sum()\n",
    "monthly.head()"
   ]
  },
  {
   "cell_type": "code",
   "execution_count": 36,
   "metadata": {
    "execution": {
     "iopub.execute_input": "2020-10-20T07:07:26.800740Z",
     "iopub.status.busy": "2020-10-20T07:07:26.800495Z",
     "iopub.status.idle": "2020-10-20T07:07:27.060264Z",
     "shell.execute_reply": "2020-10-20T07:07:27.059453Z",
     "shell.execute_reply.started": "2020-10-20T07:07:26.800702Z"
    }
   },
   "outputs": [
    {
     "data": {
      "image/png": "[encoded data removed]",
      "text/plain": [
       "<Figure size 700x300 with 1 Axes>"
      ]
     },
     "metadata": {
      "needs_background": "light"
     },
     "output_type": "display_data"
    }
   ],
   "source": [
    "fig = plt.figure(figsize=(7, 3), dpi=100)\n",
    "ax = fig.add_subplot(1, 1, 1)\n",
    "ax.plot(monthly.index, monthly.num, color=\"red\", marker=\"*\", alpha=0.5)\n",
    "_ = ax.set_title(\"Monthly Sales\")"
   ]
  },
  {
   "cell_type": "code",
   "execution_count": 37,
   "metadata": {
    "execution": {
     "iopub.execute_input": "2020-10-20T07:07:27.061695Z",
     "iopub.status.busy": "2020-10-20T07:07:27.061456Z",
     "iopub.status.idle": "2020-10-20T07:07:27.136631Z",
     "shell.execute_reply": "2020-10-20T07:07:27.135818Z",
     "shell.execute_reply.started": "2020-10-20T07:07:27.061667Z"
    }
   },
   "outputs": [
    {
     "data": {
      "text/html": [
       "<div>\n",
       "<style scoped>\n",
       "    .dataframe tbody tr th:only-of-type {\n",
       "        vertical-align: middle;\n",
       "    }\n",
       "\n",
       "    .dataframe tbody tr th {\n",
       "        vertical-align: top;\n",
       "    }\n",
       "\n",
       "    .dataframe thead tr th {\n",
       "        text-align: left;\n",
       "    }\n",
       "\n",
       "    .dataframe thead tr:last-of-type th {\n",
       "        text-align: right;\n",
       "    }\n",
       "</style>\n",
       "<table border=\"1\" class=\"dataframe\">\n",
       "  <thead>\n",
       "    <tr>\n",
       "      <th></th>\n",
       "      <th colspan=\"3\" halign=\"left\">num</th>\n",
       "    </tr>\n",
       "    <tr>\n",
       "      <th></th>\n",
       "      <th>sum</th>\n",
       "      <th>mean</th>\n",
       "      <th>std</th>\n",
       "    </tr>\n",
       "    <tr>\n",
       "      <th>date</th>\n",
       "      <th></th>\n",
       "      <th></th>\n",
       "      <th></th>\n",
       "    </tr>\n",
       "  </thead>\n",
       "  <tbody>\n",
       "    <tr>\n",
       "      <th>2015-03-31</th>\n",
       "      <td>75407</td>\n",
       "      <td>2.80</td>\n",
       "      <td>0.87</td>\n",
       "    </tr>\n",
       "    <tr>\n",
       "      <th>2015-06-30</th>\n",
       "      <td>76724</td>\n",
       "      <td>2.80</td>\n",
       "      <td>0.87</td>\n",
       "    </tr>\n",
       "    <tr>\n",
       "      <th>2015-09-30</th>\n",
       "      <td>77871</td>\n",
       "      <td>2.80</td>\n",
       "      <td>0.87</td>\n",
       "    </tr>\n",
       "    <tr>\n",
       "      <th>2015-12-31</th>\n",
       "      <td>77861</td>\n",
       "      <td>2.80</td>\n",
       "      <td>0.87</td>\n",
       "    </tr>\n",
       "    <tr>\n",
       "      <th>2016-03-31</th>\n",
       "      <td>76498</td>\n",
       "      <td>2.80</td>\n",
       "      <td>0.87</td>\n",
       "    </tr>\n",
       "    <tr>\n",
       "      <th>2016-06-30</th>\n",
       "      <td>76600</td>\n",
       "      <td>2.80</td>\n",
       "      <td>0.88</td>\n",
       "    </tr>\n",
       "    <tr>\n",
       "      <th>2016-09-30</th>\n",
       "      <td>78143</td>\n",
       "      <td>2.81</td>\n",
       "      <td>0.87</td>\n",
       "    </tr>\n",
       "    <tr>\n",
       "      <th>2016-12-31</th>\n",
       "      <td>76752</td>\n",
       "      <td>2.80</td>\n",
       "      <td>0.87</td>\n",
       "    </tr>\n",
       "    <tr>\n",
       "      <th>2017-03-31</th>\n",
       "      <td>76659</td>\n",
       "      <td>2.80</td>\n",
       "      <td>0.87</td>\n",
       "    </tr>\n",
       "    <tr>\n",
       "      <th>2017-06-30</th>\n",
       "      <td>8053</td>\n",
       "      <td>2.80</td>\n",
       "      <td>0.86</td>\n",
       "    </tr>\n",
       "  </tbody>\n",
       "</table>\n",
       "</div>"
      ],
      "text/plain": [
       "              num            \n",
       "              sum  mean   std\n",
       "date                         \n",
       "2015-03-31  75407  2.80  0.87\n",
       "2015-06-30  76724  2.80  0.87\n",
       "2015-09-30  77871  2.80  0.87\n",
       "2015-12-31  77861  2.80  0.87\n",
       "2016-03-31  76498  2.80  0.87\n",
       "2016-06-30  76600  2.80  0.88\n",
       "2016-09-30  78143  2.81  0.87\n",
       "2016-12-31  76752  2.80  0.87\n",
       "2017-03-31  76659  2.80  0.87\n",
       "2017-06-30   8053  2.80  0.86"
      ]
     },
     "execution_count": 37,
     "metadata": {},
     "output_type": "execute_result"
    }
   ],
   "source": [
    "# quarterly statistics\n",
    "sm.resample(\"Q\")[[\"num\"]].agg([\"sum\", \"mean\", \"std\"])"
   ]
  },
  {
   "cell_type": "code",
   "execution_count": 38,
   "metadata": {
    "execution": {
     "iopub.execute_input": "2020-10-20T07:07:27.137767Z",
     "iopub.status.busy": "2020-10-20T07:07:27.137468Z",
     "iopub.status.idle": "2020-10-20T07:07:27.175089Z",
     "shell.execute_reply": "2020-10-20T07:07:27.174185Z",
     "shell.execute_reply.started": "2020-10-20T07:07:27.137743Z"
    }
   },
   "outputs": [
    {
     "data": {
      "text/plain": [
       "date\n",
       "2015-01-01 09:00:00    4\n",
       "2015-01-01 09:01:00    4\n",
       "2015-01-01 09:02:00    3\n",
       "2015-01-01 09:03:00    3\n",
       "2015-01-01 09:04:00    3\n",
       "Name: num, dtype: int64"
      ]
     },
     "execution_count": 38,
     "metadata": {},
     "output_type": "execute_result"
    }
   ],
   "source": [
    "# normal data\n",
    "sm.num.head(5)"
   ]
  },
  {
   "cell_type": "code",
   "execution_count": 39,
   "metadata": {
    "execution": {
     "iopub.execute_input": "2020-10-20T07:07:27.176354Z",
     "iopub.status.busy": "2020-10-20T07:07:27.175850Z",
     "iopub.status.idle": "2020-10-20T07:07:27.213750Z",
     "shell.execute_reply": "2020-10-20T07:07:27.212780Z",
     "shell.execute_reply.started": "2020-10-20T07:07:27.176337Z"
    }
   },
   "outputs": [
    {
     "data": {
      "text/plain": [
       "date\n",
       "2015-01-01 09:00:00    NaN\n",
       "2015-01-01 09:01:00    4.0\n",
       "2015-01-01 09:02:00    4.0\n",
       "2015-01-01 09:03:00    3.0\n",
       "2015-01-01 09:04:00    3.0\n",
       "Name: num, dtype: float64"
      ]
     },
     "execution_count": 39,
     "metadata": {},
     "output_type": "execute_result"
    }
   ],
   "source": [
    "# shifted forward by 1 day\n",
    "sm.num.shift(1).head(5)"
   ]
  },
  {
   "cell_type": "code",
   "execution_count": 40,
   "metadata": {
    "execution": {
     "iopub.execute_input": "2020-10-20T07:07:27.220301Z",
     "iopub.status.busy": "2020-10-20T07:07:27.214701Z",
     "iopub.status.idle": "2020-10-20T07:07:27.256380Z",
     "shell.execute_reply": "2020-10-20T07:07:27.255562Z",
     "shell.execute_reply.started": "2020-10-20T07:07:27.220260Z"
    }
   },
   "outputs": [
    {
     "data": {
      "text/plain": [
       "date\n",
       "2015-01-01 09:00:00    4.0\n",
       "2015-01-01 09:01:00    3.0\n",
       "2015-01-01 09:02:00    3.0\n",
       "2015-01-01 09:03:00    3.0\n",
       "2015-01-01 09:04:00    3.0\n",
       "Name: num, dtype: float64"
      ]
     },
     "execution_count": 40,
     "metadata": {},
     "output_type": "execute_result"
    }
   ],
   "source": [
    "# lag by 1 day\n",
    "sm.num.shift(-1).head(5)"
   ]
  },
  {
   "cell_type": "markdown",
   "metadata": {},
   "source": [
    "## Tesla"
   ]
  },
  {
   "cell_type": "code",
   "execution_count": 41,
   "metadata": {
    "execution": {
     "iopub.execute_input": "2020-10-20T07:07:27.257747Z",
     "iopub.status.busy": "2020-10-20T07:07:27.257539Z",
     "iopub.status.idle": "2020-10-20T07:07:27.288566Z",
     "shell.execute_reply": "2020-10-20T07:07:27.287679Z",
     "shell.execute_reply.started": "2020-10-20T07:07:27.257722Z"
    }
   },
   "outputs": [],
   "source": [
    "# https://finance.yahoo.com/quote/TSLA/history?p=TSLA\n",
    "# pip install fbprophet"
   ]
  },
  {
   "cell_type": "code",
   "execution_count": 42,
   "metadata": {
    "execution": {
     "iopub.execute_input": "2020-10-20T07:07:27.289779Z",
     "iopub.status.busy": "2020-10-20T07:07:27.289469Z",
     "iopub.status.idle": "2020-10-20T07:07:27.333637Z",
     "shell.execute_reply": "2020-10-20T07:07:27.332907Z",
     "shell.execute_reply.started": "2020-10-20T07:07:27.289753Z"
    }
   },
   "outputs": [
    {
     "data": {
      "text/html": [
       "<div>\n",
       "<style scoped>\n",
       "    .dataframe tbody tr th:only-of-type {\n",
       "        vertical-align: middle;\n",
       "    }\n",
       "\n",
       "    .dataframe tbody tr th {\n",
       "        vertical-align: top;\n",
       "    }\n",
       "\n",
       "    .dataframe thead th {\n",
       "        text-align: right;\n",
       "    }\n",
       "</style>\n",
       "<table border=\"1\" class=\"dataframe\">\n",
       "  <thead>\n",
       "    <tr style=\"text-align: right;\">\n",
       "      <th></th>\n",
       "      <th>Date</th>\n",
       "      <th>Open</th>\n",
       "      <th>High</th>\n",
       "      <th>Low</th>\n",
       "      <th>Close</th>\n",
       "      <th>Adj Close</th>\n",
       "      <th>Volume</th>\n",
       "    </tr>\n",
       "  </thead>\n",
       "  <tbody>\n",
       "    <tr>\n",
       "      <th>0</th>\n",
       "      <td>2019-10-21</td>\n",
       "      <td>51.67</td>\n",
       "      <td>51.90</td>\n",
       "      <td>50.04</td>\n",
       "      <td>50.70</td>\n",
       "      <td>50.70</td>\n",
       "      <td>25101500</td>\n",
       "    </tr>\n",
       "    <tr>\n",
       "      <th>1</th>\n",
       "      <td>2019-10-22</td>\n",
       "      <td>50.86</td>\n",
       "      <td>51.67</td>\n",
       "      <td>50.17</td>\n",
       "      <td>51.12</td>\n",
       "      <td>51.12</td>\n",
       "      <td>23004000</td>\n",
       "    </tr>\n",
       "    <tr>\n",
       "      <th>2</th>\n",
       "      <td>2019-10-23</td>\n",
       "      <td>50.90</td>\n",
       "      <td>51.23</td>\n",
       "      <td>50.27</td>\n",
       "      <td>50.94</td>\n",
       "      <td>50.94</td>\n",
       "      <td>26305500</td>\n",
       "    </tr>\n",
       "  </tbody>\n",
       "</table>\n",
       "</div>"
      ],
      "text/plain": [
       "        Date   Open   High    Low  Close  Adj Close    Volume\n",
       "0 2019-10-21  51.67  51.90  50.04  50.70      50.70  25101500\n",
       "1 2019-10-22  50.86  51.67  50.17  51.12      51.12  23004000\n",
       "2 2019-10-23  50.90  51.23  50.27  50.94      50.94  26305500"
      ]
     },
     "execution_count": 42,
     "metadata": {},
     "output_type": "execute_result"
    }
   ],
   "source": [
    "tesla = pd.read_csv(\"TSLA.csv\", parse_dates=[\"Date\"])\n",
    "tesla.head(3)"
   ]
  },
  {
   "cell_type": "code",
   "execution_count": 44,
   "metadata": {
    "execution": {
     "iopub.execute_input": "2020-10-20T07:08:08.702283Z",
     "iopub.status.busy": "2020-10-20T07:08:08.702088Z",
     "iopub.status.idle": "2020-10-20T07:08:08.869519Z",
     "shell.execute_reply": "2020-10-20T07:08:08.868770Z",
     "shell.execute_reply.started": "2020-10-20T07:08:08.702262Z"
    }
   },
   "outputs": [],
   "source": [
    "from fbprophet import Prophet"
   ]
  },
  {
   "cell_type": "code",
   "execution_count": 46,
   "metadata": {
    "execution": {
     "iopub.execute_input": "2020-10-20T07:09:47.249529Z",
     "iopub.status.busy": "2020-10-20T07:09:47.249397Z",
     "iopub.status.idle": "2020-10-20T07:09:47.283696Z",
     "shell.execute_reply": "2020-10-20T07:09:47.282915Z",
     "shell.execute_reply.started": "2020-10-20T07:09:47.249513Z"
    }
   },
   "outputs": [
    {
     "data": {
      "text/html": [
       "<div>\n",
       "<style scoped>\n",
       "    .dataframe tbody tr th:only-of-type {\n",
       "        vertical-align: middle;\n",
       "    }\n",
       "\n",
       "    .dataframe tbody tr th {\n",
       "        vertical-align: top;\n",
       "    }\n",
       "\n",
       "    .dataframe thead th {\n",
       "        text-align: right;\n",
       "    }\n",
       "</style>\n",
       "<table border=\"1\" class=\"dataframe\">\n",
       "  <thead>\n",
       "    <tr style=\"text-align: right;\">\n",
       "      <th></th>\n",
       "      <th>ds</th>\n",
       "      <th>y</th>\n",
       "    </tr>\n",
       "  </thead>\n",
       "  <tbody>\n",
       "    <tr>\n",
       "      <th>0</th>\n",
       "      <td>2019-10-21</td>\n",
       "      <td>50.70</td>\n",
       "    </tr>\n",
       "    <tr>\n",
       "      <th>1</th>\n",
       "      <td>2019-10-22</td>\n",
       "      <td>51.12</td>\n",
       "    </tr>\n",
       "    <tr>\n",
       "      <th>2</th>\n",
       "      <td>2019-10-23</td>\n",
       "      <td>50.94</td>\n",
       "    </tr>\n",
       "  </tbody>\n",
       "</table>\n",
       "</div>"
      ],
      "text/plain": [
       "          ds      y\n",
       "0 2019-10-21  50.70\n",
       "1 2019-10-22  51.12\n",
       "2 2019-10-23  50.94"
      ]
     },
     "execution_count": 46,
     "metadata": {},
     "output_type": "execute_result"
    }
   ],
   "source": [
    "tesla = tesla[[\"Date\", \"Close\"]]\n",
    "tesla.columns = [\"ds\", \"y\"]\n",
    "tesla.head(3)"
   ]
  },
  {
   "cell_type": "code",
   "execution_count": 47,
   "metadata": {
    "execution": {
     "iopub.execute_input": "2020-10-20T07:10:07.375615Z",
     "iopub.status.busy": "2020-10-20T07:10:07.375457Z",
     "iopub.status.idle": "2020-10-20T07:10:08.115993Z",
     "shell.execute_reply": "2020-10-20T07:10:08.115501Z",
     "shell.execute_reply.started": "2020-10-20T07:10:07.375600Z"
    }
   },
   "outputs": [],
   "source": [
    "m = Prophet()"
   ]
  },
  {
   "cell_type": "code",
   "execution_count": 48,
   "metadata": {
    "execution": {
     "iopub.execute_input": "2020-10-20T07:10:16.740291Z",
     "iopub.status.busy": "2020-10-20T07:10:16.740112Z",
     "iopub.status.idle": "2020-10-20T07:10:16.828599Z",
     "shell.execute_reply": "2020-10-20T07:10:16.828036Z",
     "shell.execute_reply.started": "2020-10-20T07:10:16.740255Z"
    }
   },
   "outputs": [
    {
     "name": "stderr",
     "output_type": "stream",
     "text": [
      "INFO:fbprophet:Disabling yearly seasonality. Run prophet with yearly_seasonality=True to override this.\n",
      "INFO:fbprophet:Disabling daily seasonality. Run prophet with daily_seasonality=True to override this.\n"
     ]
    },
    {
     "data": {
      "text/plain": [
       "<fbprophet.forecaster.Prophet at 0x7f5371c963a0>"
      ]
     },
     "execution_count": 48,
     "metadata": {},
     "output_type": "execute_result"
    }
   ],
   "source": [
    "m.fit(tesla)"
   ]
  },
  {
   "cell_type": "code",
   "execution_count": 49,
   "metadata": {
    "execution": {
     "iopub.execute_input": "2020-10-20T07:10:53.849398Z",
     "iopub.status.busy": "2020-10-20T07:10:53.849179Z",
     "iopub.status.idle": "2020-10-20T07:10:53.885598Z",
     "shell.execute_reply": "2020-10-20T07:10:53.884804Z",
     "shell.execute_reply.started": "2020-10-20T07:10:53.849375Z"
    }
   },
   "outputs": [
    {
     "data": {
      "text/html": [
       "<div>\n",
       "<style scoped>\n",
       "    .dataframe tbody tr th:only-of-type {\n",
       "        vertical-align: middle;\n",
       "    }\n",
       "\n",
       "    .dataframe tbody tr th {\n",
       "        vertical-align: top;\n",
       "    }\n",
       "\n",
       "    .dataframe thead th {\n",
       "        text-align: right;\n",
       "    }\n",
       "</style>\n",
       "<table border=\"1\" class=\"dataframe\">\n",
       "  <thead>\n",
       "    <tr style=\"text-align: right;\">\n",
       "      <th></th>\n",
       "      <th>ds</th>\n",
       "    </tr>\n",
       "  </thead>\n",
       "  <tbody>\n",
       "    <tr>\n",
       "      <th>612</th>\n",
       "      <td>2021-10-15</td>\n",
       "    </tr>\n",
       "    <tr>\n",
       "      <th>613</th>\n",
       "      <td>2021-10-16</td>\n",
       "    </tr>\n",
       "    <tr>\n",
       "      <th>614</th>\n",
       "      <td>2021-10-17</td>\n",
       "    </tr>\n",
       "    <tr>\n",
       "      <th>615</th>\n",
       "      <td>2021-10-18</td>\n",
       "    </tr>\n",
       "    <tr>\n",
       "      <th>616</th>\n",
       "      <td>2021-10-19</td>\n",
       "    </tr>\n",
       "  </tbody>\n",
       "</table>\n",
       "</div>"
      ],
      "text/plain": [
       "            ds\n",
       "612 2021-10-15\n",
       "613 2021-10-16\n",
       "614 2021-10-17\n",
       "615 2021-10-18\n",
       "616 2021-10-19"
      ]
     },
     "execution_count": 49,
     "metadata": {},
     "output_type": "execute_result"
    }
   ],
   "source": [
    "future = m.make_future_dataframe(periods=365)\n",
    "future.tail()"
   ]
  },
  {
   "cell_type": "code",
   "execution_count": 50,
   "metadata": {
    "execution": {
     "iopub.execute_input": "2020-10-20T07:12:06.499579Z",
     "iopub.status.busy": "2020-10-20T07:12:06.499309Z",
     "iopub.status.idle": "2020-10-20T07:12:08.102032Z",
     "shell.execute_reply": "2020-10-20T07:12:08.101409Z",
     "shell.execute_reply.started": "2020-10-20T07:12:06.499555Z"
    }
   },
   "outputs": [
    {
     "data": {
      "text/html": [
       "<div>\n",
       "<style scoped>\n",
       "    .dataframe tbody tr th:only-of-type {\n",
       "        vertical-align: middle;\n",
       "    }\n",
       "\n",
       "    .dataframe tbody tr th {\n",
       "        vertical-align: top;\n",
       "    }\n",
       "\n",
       "    .dataframe thead th {\n",
       "        text-align: right;\n",
       "    }\n",
       "</style>\n",
       "<table border=\"1\" class=\"dataframe\">\n",
       "  <thead>\n",
       "    <tr style=\"text-align: right;\">\n",
       "      <th></th>\n",
       "      <th>ds</th>\n",
       "      <th>yhat</th>\n",
       "      <th>yhat_lower</th>\n",
       "      <th>yhat_upper</th>\n",
       "    </tr>\n",
       "  </thead>\n",
       "  <tbody>\n",
       "    <tr>\n",
       "      <th>612</th>\n",
       "      <td>2021-10-15</td>\n",
       "      <td>1237.17</td>\n",
       "      <td>1072.59</td>\n",
       "      <td>1415.89</td>\n",
       "    </tr>\n",
       "    <tr>\n",
       "      <th>613</th>\n",
       "      <td>2021-10-16</td>\n",
       "      <td>1239.57</td>\n",
       "      <td>1085.12</td>\n",
       "      <td>1414.44</td>\n",
       "    </tr>\n",
       "    <tr>\n",
       "      <th>614</th>\n",
       "      <td>2021-10-17</td>\n",
       "      <td>1241.68</td>\n",
       "      <td>1086.96</td>\n",
       "      <td>1417.02</td>\n",
       "    </tr>\n",
       "    <tr>\n",
       "      <th>615</th>\n",
       "      <td>2021-10-18</td>\n",
       "      <td>1245.18</td>\n",
       "      <td>1084.21</td>\n",
       "      <td>1418.62</td>\n",
       "    </tr>\n",
       "    <tr>\n",
       "      <th>616</th>\n",
       "      <td>2021-10-19</td>\n",
       "      <td>1246.90</td>\n",
       "      <td>1090.05</td>\n",
       "      <td>1423.06</td>\n",
       "    </tr>\n",
       "  </tbody>\n",
       "</table>\n",
       "</div>"
      ],
      "text/plain": [
       "            ds     yhat  yhat_lower  yhat_upper\n",
       "612 2021-10-15  1237.17     1072.59     1415.89\n",
       "613 2021-10-16  1239.57     1085.12     1414.44\n",
       "614 2021-10-17  1241.68     1086.96     1417.02\n",
       "615 2021-10-18  1245.18     1084.21     1418.62\n",
       "616 2021-10-19  1246.90     1090.05     1423.06"
      ]
     },
     "execution_count": 50,
     "metadata": {},
     "output_type": "execute_result"
    }
   ],
   "source": [
    "forecast = m.predict(future)\n",
    "forecast[[\"ds\", \"yhat\", \"yhat_lower\", \"yhat_upper\"]].tail()"
   ]
  },
  {
   "cell_type": "code",
   "execution_count": 51,
   "metadata": {
    "execution": {
     "iopub.execute_input": "2020-10-20T07:12:48.631537Z",
     "iopub.status.busy": "2020-10-20T07:12:48.631316Z",
     "iopub.status.idle": "2020-10-20T07:12:48.861862Z",
     "shell.execute_reply": "2020-10-20T07:12:48.861240Z",
     "shell.execute_reply.started": "2020-10-20T07:12:48.631513Z"
    }
   },
   "outputs": [
    {
     "data": {
      "image/png": "[encoded data removed]",
      "text/plain": [
       "<Figure size 720x432 with 1 Axes>"
      ]
     },
     "metadata": {},
     "output_type": "display_data"
    }
   ],
   "source": [
    "fig1 = m.plot(forecast)"
   ]
  },
  {
   "cell_type": "code",
   "execution_count": 52,
   "metadata": {
    "execution": {
     "iopub.execute_input": "2020-10-20T07:13:28.942826Z",
     "iopub.status.busy": "2020-10-20T07:13:28.942603Z",
     "iopub.status.idle": "2020-10-20T07:13:29.262915Z",
     "shell.execute_reply": "2020-10-20T07:13:29.262436Z",
     "shell.execute_reply.started": "2020-10-20T07:13:28.942803Z"
    }
   },
   "outputs": [
    {
     "data": {
      "image/png": "[encoded data removed]",
      "text/plain": [
       "<Figure size 648x432 with 2 Axes>"
      ]
     },
     "metadata": {},
     "output_type": "display_data"
    }
   ],
   "source": [
    "fig2 = m.plot_components(forecast)"
   ]
  },
  {
   "cell_type": "code",
   "execution_count": null,
   "metadata": {},
   "outputs": [],
   "source": []
  }
 ],
 "metadata": {
  "kernelspec": {
   "display_name": "Python 3",
   "language": "python",
   "name": "python3"
  },
  "language_info": {
   "codemirror_mode": {
    "name": "ipython",
    "version": 3
   },
   "file_extension": ".py",
   "mimetype": "text/x-python",
   "name": "python",
   "nbconvert_exporter": "python",
   "pygments_lexer": "ipython3",
   "version": "3.8.5"
  }
 },
 "nbformat": 4,
 "nbformat_minor": 4
}
